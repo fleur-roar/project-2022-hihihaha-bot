{
 "cells": [
  {
   "cell_type": "markdown",
   "id": "db5246f6",
   "metadata": {},
   "source": [
    "# Этап А. Обкачивание Краулером сайт, создание БД и морф обработка"
   ]
  },
  {
   "cell_type": "markdown",
   "id": "78432b12",
   "metadata": {},
   "source": [
    "## Часть 1. Краулер и БД"
   ]
  },
  {
   "cell_type": "markdown",
   "id": "8a74b49b",
   "metadata": {},
   "source": [
    "Для того чтобы что-то сделать с анекдотами их сначала надо собрать. Куда? В базу данных. Откуда? С сайта.\n",
    "1. Создать бд\n",
    "2. Рассмотреть исходный код сайта\n",
    "3. Скраулерить оттуда инфу в бд "
   ]
  },
  {
   "cell_type": "markdown",
   "id": "20106421",
   "metadata": {},
   "source": [
    "### 1.1. Создадим БД"
   ]
  },
  {
   "cell_type": "markdown",
   "id": "7e915615",
   "metadata": {},
   "source": [
    "Архитектура: 3 таблицы, 2 из них с информацией, одна - связующая\n",
    "* **anecs** - сами анекдоты, лайки, год выхода\n",
    "* **tags** - сюда я вытащю именованные сущности (и не только) в каких-либо видах\n",
    "* **text_to_tag** - само индексирование = связь анекдотов и тегов в них"
   ]
  },
  {
   "cell_type": "code",
   "execution_count": 13,
   "id": "3f36e29c",
   "metadata": {},
   "outputs": [],
   "source": [
    "import sqlite3\n",
    "from bs4 import BeautifulSoup\n",
    "import re"
   ]
  },
  {
   "cell_type": "code",
   "execution_count": 14,
   "id": "84142c53",
   "metadata": {},
   "outputs": [],
   "source": [
    "conn = sqlite3.connect('le_petit_bd.db')\n",
    "cur = conn.cursor()"
   ]
  },
  {
   "cell_type": "code",
   "execution_count": 15,
   "id": "b74c8849",
   "metadata": {},
   "outputs": [],
   "source": [
    "cur.execute(\"\"\"\n",
    "CREATE TABLE IF NOT EXISTS anecs \n",
    "(id INTEGER PRIMARY KEY AUTOINCREMENT, text text, lemtext text, time int, likes int, kwords text)\n",
    "\"\"\")\n",
    "\n",
    "cur.execute(\"\"\"\n",
    "CREATE TABLE IF NOT EXISTS tags \n",
    "(id_tag int PRIMARY KEY, auto_tag text, my_tag text) \n",
    "\"\"\")\n",
    "\n",
    "cur.execute(\"\"\"\n",
    "CREATE TABLE IF NOT EXISTS text_to_tag \n",
    "(id INTEGER PRIMARY KEY AUTOINCREMENT, id_anec int, id_tag int) \n",
    "\"\"\")\n",
    "\n",
    "\n",
    "conn.commit()\n",
    "conn.close()"
   ]
  },
  {
   "cell_type": "markdown",
   "id": "8caa62f6",
   "metadata": {},
   "source": [
    "Сайт, с которым я работаю: https://www.anekdot.ru/release/anekdot/year/2022/42\n",
    "Обкачаю топ 20 страниц (ранжированных по популярности) анекдотов за последние 3 года."
   ]
  },
  {
   "cell_type": "markdown",
   "id": "9f56e521",
   "metadata": {},
   "source": [
    "### 1.2. Краулером обкачаем анекдотики"
   ]
  },
  {
   "cell_type": "code",
   "execution_count": 21,
   "id": "493b9f9a",
   "metadata": {},
   "outputs": [],
   "source": [
    "import requests\n",
    "from pprint import pprint\n",
    "session = requests.session()\n",
    "from fake_useragent import UserAgent\n",
    "ua = UserAgent(verify_ssl=False)"
   ]
  },
  {
   "cell_type": "code",
   "execution_count": null,
   "id": "a4410bdd",
   "metadata": {},
   "outputs": [],
   "source": [
    "# Пусть тут пока побудет код разовых вызовов, где я тренировалась"
   ]
  },
  {
   "cell_type": "code",
   "execution_count": 49,
   "id": "c6a6c2d3",
   "metadata": {},
   "outputs": [
    {
     "data": {
      "text/plain": [
       "<re.Match object; span=(3, 5), match='14'>"
      ]
     },
     "execution_count": 49,
     "metadata": {},
     "output_type": "execute_result"
    }
   ],
   "source": [
    "full_url = 'https://www.anekdot.ru/release/anekdot/year/2022/33'\n",
    "req = session.get(full_url, headers={'User-Agent': ua.random})\n",
    "page = req.text\n",
    "soup = BeautifulSoup(page, 'html.parser')\n",
    "\n",
    "#a = soup.find_all('div', {'class': 'text'}) \n",
    "#print(a[3].text)\n",
    "\n",
    "b = soup.find_all('div', {'class': 'rates'}) \n",
    "# Регулярными выражениями достанем кол-во лайков\n",
    "c = re.search(r'r=\"(\\d+);', str(b[0]))\n",
    "c.group(0) # Чё-то странным способом, почему скобки не работают? Ну лан\n",
    "d = re.search(r'\\d+', c.group(0))\n",
    "d"
   ]
  },
  {
   "cell_type": "markdown",
   "id": "54fa6bde",
   "metadata": {},
   "source": [
    "**Напишем сразу функцию, которая будет делать следующее:**  \n",
    "   1. С полученной страницы доставать все анекдоты и их рейтинг (в значении оценки)   \n",
    "   2. Проверять анекдоты на длину {для красоты и удобства бота я решила не брать слишком длинные}    \n",
    "   3. В случае если длина нормальная - записывает в базу данных  \n",
    "        *а) текст анекдота   \n",
    "         б) его оценки  \n",
    "         в) год публикации этого анекдота*    \n",
    "**P.S.** Отмечу, что на самом сайте изредка попадаются местные теги, включающие в себя и именованные сущности, но они так редко стоят, что я решила нет смысла трогать их, раз всё равно картину полностью они не отражают => не юзанёшь."
   ]
  },
  {
   "cell_type": "code",
   "execution_count": 74,
   "id": "0fa96930",
   "metadata": {},
   "outputs": [],
   "source": [
    "def write_all_to_db(year, number_of_page):\n",
    "    full_url = 'https://www.anekdot.ru/release/anekdot/year/' + str(year) + \"/\" + str(number_of_page)\n",
    "    req = session.get(full_url, headers={'User-Agent': ua.random})\n",
    "    page = req.text\n",
    "    soup = BeautifulSoup(page, 'html.parser')\n",
    "    \n",
    "    conn = sqlite3.connect('le_petit_bd.db')\n",
    "    cur = conn.cursor()\n",
    "    \n",
    "    all_anecs = soup.find_all('div', {'class': 'text'}) \n",
    "    all_likes = soup.find_all('div', {'class': 'rates'})\n",
    "    \n",
    "    for i in range(len(all_anecs)-1): # Потому что тут ещё Анекдот дня лишний\n",
    "        anecdot = all_anecs[i].text\n",
    "        promezutoc = re.search(r'r=\"(\\d+);', str(all_likes[i]))\n",
    "        likes = int(re.search(r'\\d+', promezutoc.group(0)).group(0))\n",
    "        \n",
    "        if len(anecdot) < 638: # Не хочу в бот слишком длинные анекдоты, не красиво\n",
    "            cur.execute(\n",
    "                \"\"\"\n",
    "                INSERT INTO anecs \n",
    "                    (text, time, likes)\n",
    "                    VALUES (?, ?, ?)\n",
    "                \"\"\", (\n",
    "                    anecdot, year, likes)\n",
    "            )\n",
    "            conn.commit()\n",
    "    conn.close()"
   ]
  },
  {
   "cell_type": "code",
   "execution_count": 75,
   "id": "96430508",
   "metadata": {},
   "outputs": [],
   "source": [
    "from tqdm.auto import tqdm # Пусть грузится, пока буду кушать"
   ]
  },
  {
   "cell_type": "markdown",
   "id": "2ee0cc86",
   "metadata": {},
   "source": [
    "И циклом запишу сразу в базу данных.  \n",
    "P.S. Без проверки на анекдоты-повторки, пушто мой метод сбора данных исключает повторки (так как по 3 разным годам), да ив  принципе повторки не страшны "
   ]
  },
  {
   "cell_type": "code",
   "execution_count": 76,
   "id": "97b03a8c",
   "metadata": {
    "scrolled": true
   },
   "outputs": [
    {
     "name": "stdout",
     "output_type": "stream",
     "text": [
      "Год 2022 начат.\n"
     ]
    },
    {
     "data": {
      "application/vnd.jupyter.widget-view+json": {
       "model_id": "f18bdf4cc3ea474e8ebd0938d005b599",
       "version_major": 2,
       "version_minor": 0
      },
      "text/plain": [
       "HBox(children=(FloatProgress(value=0.0, max=20.0), HTML(value='')))"
      ]
     },
     "metadata": {},
     "output_type": "display_data"
    },
    {
     "name": "stdout",
     "output_type": "stream",
     "text": [
      "\n",
      "Год 2021 начат.\n"
     ]
    },
    {
     "data": {
      "application/vnd.jupyter.widget-view+json": {
       "model_id": "2c650ba22d7c49e1a85f35f30ca86b17",
       "version_major": 2,
       "version_minor": 0
      },
      "text/plain": [
       "HBox(children=(FloatProgress(value=0.0, max=20.0), HTML(value='')))"
      ]
     },
     "metadata": {},
     "output_type": "display_data"
    },
    {
     "name": "stdout",
     "output_type": "stream",
     "text": [
      "\n",
      "Год 2020 начат.\n"
     ]
    },
    {
     "data": {
      "application/vnd.jupyter.widget-view+json": {
       "model_id": "473f934d09344d81b17004a8019b1d2b",
       "version_major": 2,
       "version_minor": 0
      },
      "text/plain": [
       "HBox(children=(FloatProgress(value=0.0, max=20.0), HTML(value='')))"
      ]
     },
     "metadata": {},
     "output_type": "display_data"
    },
    {
     "name": "stdout",
     "output_type": "stream",
     "text": [
      "\n"
     ]
    }
   ],
   "source": [
    "\n",
    "years = [2022, 2021, 2020]\n",
    "for i in years:\n",
    "    year = i\n",
    "    print(\"Год\", i, \"начат.\")\n",
    "    for i in tqdm(range(20)):\n",
    "        try:\n",
    "            write_all_to_db(year, i+1)\n",
    "        except Exception as e:\n",
    "            print('full exception', e)  # Конечно же с проверкой\n"
   ]
  },
  {
   "cell_type": "markdown",
   "id": "af922de6",
   "metadata": {},
   "source": [
    "Собственно, ура, у нас собрано 5963 анекдота, круто же"
   ]
  },
  {
   "cell_type": "markdown",
   "id": "e221e216",
   "metadata": {},
   "source": [
    "## Часть 2. Морфанализатор анекдотов"
   ]
  },
  {
   "cell_type": "markdown",
   "id": "e55286d0",
   "metadata": {},
   "source": [
    "Как бы что делать дальше? Дальше взять тексты анекдотов (вы-та-щить) и обработать их.   \n",
    "Для простейшего поиска вхождений тегов достаточно лемматизировать, но, с верой в потенциальное развитие чего-нибудь, очистим и от стоп слов и от пунктуации. Полученные анекдоты запишем а БД.\n",
    "1. Функция лемматизации (полной обработки) \n",
    "2. Вытащить анекдоты из Бд\n",
    "3. Обработать\n",
    "4. Вписать обратно"
   ]
  },
  {
   "cell_type": "markdown",
   "id": "433f32dd",
   "metadata": {},
   "source": [
    "### 2.1. Напишем функцию лемматизации"
   ]
  },
  {
   "cell_type": "code",
   "execution_count": 84,
   "id": "e70a158c",
   "metadata": {},
   "outputs": [],
   "source": [
    "from pymystem3 import Mystem\n",
    "\n",
    "from nltk.tokenize import wordpunct_tokenize"
   ]
  },
  {
   "cell_type": "code",
   "execution_count": 186,
   "id": "27db4b71",
   "metadata": {},
   "outputs": [],
   "source": [
    "m = Mystem()\n",
    "stops = set(stopwords.words('russian'))"
   ]
  },
  {
   "cell_type": "code",
   "execution_count": 117,
   "id": "ffcd5e89",
   "metadata": {},
   "outputs": [],
   "source": [
    "# Это я тренировалась что-то сделать\n",
    "text_a = \"Россия в очередной раз пожертвовала собой. Остановила мировую ковидную истерию.\""
   ]
  },
  {
   "cell_type": "code",
   "execution_count": 187,
   "id": "c1f18b59",
   "metadata": {},
   "outputs": [],
   "source": [
    "def my_lemmatize(x):\n",
    "        if type(x) != str:\n",
    "            return \"\" # Ну на всякий\n",
    "        x = x.lower()\n",
    "        lemmas = m.lemmatize(x)\n",
    "        result = []\n",
    "        for word in lemmas:\n",
    "            if word not in stops and word != \" \":\n",
    "                result.append(word)\n",
    "        return \" \".join(result)"
   ]
  },
  {
   "cell_type": "code",
   "execution_count": 119,
   "id": "d98dddee",
   "metadata": {},
   "outputs": [
    {
     "data": {
      "text/plain": [
       "'россия очередной пожертвовать . останавливать мировой ковидный истерия . \\n'"
      ]
     },
     "execution_count": 119,
     "metadata": {},
     "output_type": "execute_result"
    }
   ],
   "source": [
    "my_lemmatize(text_a)"
   ]
  },
  {
   "cell_type": "markdown",
   "id": "17a9f9e7",
   "metadata": {},
   "source": [
    "### 2.2. Вытащим в один лист все наши анекдоты собранные"
   ]
  },
  {
   "cell_type": "code",
   "execution_count": 153,
   "id": "084f9655",
   "metadata": {},
   "outputs": [],
   "source": [
    "con = sqlite3.connect('le_petit_bd.db') # пока на другой (не тот и не та)\n",
    "cur = con.cursor()"
   ]
  },
  {
   "cell_type": "code",
   "execution_count": 154,
   "id": "2850a032",
   "metadata": {},
   "outputs": [],
   "source": [
    "comedy_query = \"\"\"\n",
    "SELECT anecs.id, anecs.text FROM anecs\n",
    "\"\"\""
   ]
  },
  {
   "cell_type": "code",
   "execution_count": 181,
   "id": "12010e7c",
   "metadata": {},
   "outputs": [
    {
     "data": {
      "text/plain": [
       "(1,\n",
       " 'Впервые за 28 лет депутатам придётся жить, лечиться, учить своих детей в условиях, которые они все эти годы создавали.')"
      ]
     },
     "execution_count": 181,
     "metadata": {},
     "output_type": "execute_result"
    }
   ],
   "source": [
    "cur.execute(comedy_query, )\n",
    "longlist = cur.fetchall()\n",
    "longlist[0]"
   ]
  },
  {
   "cell_type": "markdown",
   "id": "708912de",
   "metadata": {},
   "source": [
    "Что мы имеем на данный момент? Список, состоящий из туплов, на нулевой позиции в которых индекс текста, а на первой текст анекдотика (5963 кортежей)"
   ]
  },
  {
   "cell_type": "markdown",
   "id": "b38fd1e1",
   "metadata": {},
   "source": [
    "### 2.3. Лемматизируем каждый анекдот "
   ]
  },
  {
   "cell_type": "markdown",
   "id": "922d88bd",
   "metadata": {},
   "source": [
    "Напишем функцию с переводом в нужный для записи в БД формат."
   ]
  },
  {
   "cell_type": "code",
   "execution_count": 188,
   "id": "068646dc",
   "metadata": {},
   "outputs": [
    {
     "data": {
      "text/plain": [
       "'впервые 28 год депутат приходиться жить ,  лечиться ,  учить свой ребенок условие ,  который весь год создавать . \\n'"
      ]
     },
     "execution_count": 188,
     "metadata": {},
     "output_type": "execute_result"
    }
   ],
   "source": [
    "my_lemmatize(longlist[0][1])"
   ]
  },
  {
   "cell_type": "code",
   "execution_count": 189,
   "id": "462b6618",
   "metadata": {},
   "outputs": [],
   "source": [
    "def tuple_to_tuple(x):\n",
    "    text_no_lemmas = x[1]\n",
    "    text_of_lemmas = my_lemmatize(text_no_lemmas)\n",
    "    return tuple((x[0], text_of_lemmas))"
   ]
  },
  {
   "cell_type": "code",
   "execution_count": 190,
   "id": "0e3ed260",
   "metadata": {},
   "outputs": [
    {
     "data": {
      "application/vnd.jupyter.widget-view+json": {
       "model_id": "6d0fd599d6364a4f9b57e0a0ec858051",
       "version_major": 2,
       "version_minor": 0
      },
      "text/plain": [
       "HBox(children=(FloatProgress(value=0.0, max=5963.0), HTML(value='')))"
      ]
     },
     "metadata": {},
     "output_type": "display_data"
    },
    {
     "name": "stdout",
     "output_type": "stream",
     "text": [
      "\n"
     ]
    }
   ],
   "source": [
    "new_longlist = []\n",
    "for i in tqdm(range(len(longlist))):\n",
    "    q = longlist[i]\n",
    "    new_longlist.append(tuple_to_tuple(q))"
   ]
  },
  {
   "cell_type": "code",
   "execution_count": 219,
   "id": "57bc74b3",
   "metadata": {},
   "outputs": [
    {
     "data": {
      "text/plain": [
       "(2,\n",
       " '-  представлять ,  товарищ жук ,  сегодня сон присниться , -  говорить сталин , -  москва минск нападывать киев ,  канцлер германия умолять война прекращать ! \\n')"
      ]
     },
     "execution_count": 219,
     "metadata": {},
     "output_type": "execute_result"
    }
   ],
   "source": [
    "new_longlist[1]"
   ]
  },
  {
   "cell_type": "markdown",
   "id": "38296d65",
   "metadata": {},
   "source": [
    "Я сглупила и не убрала знаки препинания (на случай если решу привязывать моделеподобное что-то всё-таки)"
   ]
  },
  {
   "cell_type": "code",
   "execution_count": 220,
   "id": "0d7f6e4c",
   "metadata": {},
   "outputs": [],
   "source": [
    "# Пишем функцию\n",
    "def no_punctuation(a):\n",
    "    a = wordpunct_tokenize(a)\n",
    "    b = \"\"\n",
    "    for i in a:\n",
    "        if i not in \",.:;!?\\/&#@-\":\n",
    "            b += i\n",
    "            b += \" \"\n",
    "    return b.rstrip()\n"
   ]
  },
  {
   "cell_type": "code",
   "execution_count": 221,
   "id": "46b3211c",
   "metadata": {},
   "outputs": [
    {
     "data": {
      "application/vnd.jupyter.widget-view+json": {
       "model_id": "83adb14002814a0ea49985a875f0fa42",
       "version_major": 2,
       "version_minor": 0
      },
      "text/plain": [
       "HBox(children=(FloatProgress(value=0.0, max=5963.0), HTML(value='')))"
      ]
     },
     "metadata": {},
     "output_type": "display_data"
    },
    {
     "name": "stdout",
     "output_type": "stream",
     "text": [
      "\n"
     ]
    }
   ],
   "source": [
    "# Применяем её на нашем всём\n",
    "new_new_longlist = []\n",
    "for i in tqdm(range(len(new_longlist))):\n",
    "    a = new_longlist[i]\n",
    "    new_new_longlist.append(tuple((a[0], no_punctuation(a[1]))))"
   ]
  },
  {
   "cell_type": "code",
   "execution_count": 222,
   "id": "f5a64d59",
   "metadata": {},
   "outputs": [
    {
     "data": {
      "text/plain": [
       "(2,\n",
       " 'представлять товарищ жук сегодня сон присниться говорить сталин москва минск нападывать киев канцлер германия умолять война прекращать')"
      ]
     },
     "execution_count": 222,
     "metadata": {},
     "output_type": "execute_result"
    }
   ],
   "source": [
    "# Крутой уровень вложенности получился, ничего не скажешь!\n",
    "new_new_longlist[1]"
   ]
  },
  {
   "cell_type": "markdown",
   "id": "2300693c",
   "metadata": {},
   "source": [
    "### Часть 2.4. Запись в БД"
   ]
  },
  {
   "cell_type": "markdown",
   "id": "5ca53feb",
   "metadata": {},
   "source": [
    "Запишем всё, что получилось в БД. (немного неэлегантно, зато результативно)"
   ]
  },
  {
   "cell_type": "code",
   "execution_count": 237,
   "id": "2e9bbea6",
   "metadata": {},
   "outputs": [],
   "source": [
    "soskok_prognuvshis_query = \"\"\"\n",
    "SELECT anecs.id, anecs.text, anecs.time, anecs.likes FROM anecs\n",
    "\"\"\""
   ]
  },
  {
   "cell_type": "code",
   "execution_count": 239,
   "id": "c4077832",
   "metadata": {},
   "outputs": [
    {
     "data": {
      "text/plain": [
       "(1,\n",
       " 'Впервые за 28 лет депутатам придётся жить, лечиться, учить своих детей в условиях, которые они все эти годы создавали.',\n",
       " 2022,\n",
       " 1406)"
      ]
     },
     "execution_count": 239,
     "metadata": {},
     "output_type": "execute_result"
    }
   ],
   "source": [
    "conn = sqlite3.connect('le_petit_bd.db')\n",
    "cur = conn.cursor()\n",
    "cur.execute(soskok_prognuvshis_query, )\n",
    "longlist = cur.fetchall()\n",
    "longlist[0] # Аккуратно, это новый лонглист"
   ]
  },
  {
   "cell_type": "markdown",
   "id": "3c7dde6a",
   "metadata": {},
   "source": [
    "Собираем набор инфы в красивейшие туплики"
   ]
  },
  {
   "cell_type": "code",
   "execution_count": 252,
   "id": "63a9299b",
   "metadata": {},
   "outputs": [
    {
     "data": {
      "text/plain": [
       "('Правильно ли я понял, что на Казахстан напали террористы и потребовали снизить цены на газ?',\n",
       " 'правильно понимать казахстан нападывать террорист потребовать снижать цена газ',\n",
       " 2022,\n",
       " 1113)"
      ]
     },
     "execution_count": 252,
     "metadata": {},
     "output_type": "execute_result"
    }
   ],
   "source": [
    "braveness = []\n",
    "for i in range(len(longlist)):\n",
    "    k = tuple((longlist[i][1], new_new_longlist[i][1], longlist[i][2], longlist[i][3]))\n",
    "    braveness.append(k)\n",
    "braveness[7]"
   ]
  },
  {
   "cell_type": "code",
   "execution_count": 253,
   "id": "677ae196",
   "metadata": {},
   "outputs": [],
   "source": [
    "cur.executemany(\n",
    "                \"\"\"\n",
    "                INSERT INTO anecs \n",
    "                    (text, lemtext, time, likes)\n",
    "                    VALUES (?, ?, ?, ?)\n",
    "                \"\"\", (\n",
    "                    braveness)\n",
    "            )\n",
    "conn.commit()\n",
    "conn.close()"
   ]
  },
  {
   "cell_type": "markdown",
   "id": "a1713d3e",
   "metadata": {},
   "source": [
    "## Комментарий: из-за несовместимости версии питона часть работы будет в гугл колабе"
   ]
  },
  {
   "cell_type": "markdown",
   "id": "cf5fc10d",
   "metadata": {},
   "source": [
    "### Комментарий к комментарию: google colab не потянул ОЗУ, потому работала в юпитере, просто другой тетрадке."
   ]
  },
  {
   "cell_type": "markdown",
   "id": "8a9fabc9",
   "metadata": {},
   "source": [
    "# Бонус\n",
    "### Часть дополнительная.  Рандомный анекдот"
   ]
  },
  {
   "cell_type": "markdown",
   "id": "e689a6e9",
   "metadata": {},
   "source": [
    "Было бы глупо не попробовать. Анекдоты они когда сюрреалистичные - иногда даже смешнее обычных.\n",
    "\n",
    "Для попытки генерации воспользуюсь **markovify**. "
   ]
  },
  {
   "cell_type": "code",
   "execution_count": 196,
   "id": "a40b340d",
   "metadata": {},
   "outputs": [
    {
     "name": "stdout",
     "output_type": "stream",
     "text": [
      "Requirement already satisfied: markovify in c:\\users\\kseni\\anaconda3\\lib\\site-packages (0.9.4)\n",
      "Requirement already satisfied: unidecode in c:\\users\\kseni\\anaconda3\\lib\\site-packages (from markovify) (1.3.4)\n"
     ]
    }
   ],
   "source": [
    "! pip install markovify"
   ]
  },
  {
   "cell_type": "code",
   "execution_count": 197,
   "id": "229c76da",
   "metadata": {},
   "outputs": [],
   "source": [
    "import markovify"
   ]
  },
  {
   "cell_type": "markdown",
   "id": "52f90b25",
   "metadata": {},
   "source": [
    "Обучаю на своих 6000 анекдотов."
   ]
  },
  {
   "cell_type": "code",
   "execution_count": 194,
   "id": "ab1cf96e",
   "metadata": {},
   "outputs": [],
   "source": [
    "all_anecs = \"\"\n",
    "for i in longlist:\n",
    "    all_anecs += i[1]\n",
    "    all_anecs += \" \""
   ]
  },
  {
   "cell_type": "code",
   "execution_count": 198,
   "id": "6d2cf6df",
   "metadata": {},
   "outputs": [],
   "source": [
    "pop_rikolu_model = markovify.Text(all_anecs)"
   ]
  },
  {
   "cell_type": "code",
   "execution_count": 200,
   "id": "a11a3058",
   "metadata": {},
   "outputs": [
    {
     "name": "stdout",
     "output_type": "stream",
     "text": [
      "0 МИД РФ анонсировал приезд на переговоры в Израиле.То есть, Путин рассказывал бы двум евреям про денацификацию.\n",
      "1 Минеральная вода - это экстремизм.\n",
      "2 Даже женился благодаря ему. - На флоридской вилле Рокфеллера, в его время сажали за анекдоты.\n",
      "3 Проблема не в этом...\n",
      "4 А с нормальными людьми на улице проходит мимо меня, прижимая к себе и покупают дипломы Оксфордов и Гарвардов.\n"
     ]
    }
   ],
   "source": [
    "for i in range(5):\n",
    "    print(i, pop_rikolu_model.make_sentence())"
   ]
  },
  {
   "cell_type": "markdown",
   "id": "9c55c76f",
   "metadata": {},
   "source": [
    "Лично я в востороге от **Минеральная вода - это экстремизм.**, и было бы скучно не вставить такую функцию)"
   ]
  }
 ],
 "metadata": {
  "kernelspec": {
   "display_name": "Python 3",
   "language": "python",
   "name": "python3"
  },
  "language_info": {
   "codemirror_mode": {
    "name": "ipython",
    "version": 3
   },
   "file_extension": ".py",
   "mimetype": "text/x-python",
   "name": "python",
   "nbconvert_exporter": "python",
   "pygments_lexer": "ipython3",
   "version": "3.8.8"
  }
 },
 "nbformat": 4,
 "nbformat_minor": 5
}
